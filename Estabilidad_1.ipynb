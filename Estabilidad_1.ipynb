{
 "metadata": {
  "kernelspec": {
   "codemirror_mode": {
    "name": "ipython",
    "version": 3
   },
   "display_name": "IPython (Python 3)",
   "language": "python",
   "name": "python3"
  },
  "name": "",
  "signature": "sha256:45ea7d414bfb85ba568f1071a9d99607e9e5302c927ac4a7c02374eaa40906cf"
 },
 "nbformat": 3,
 "nbformat_minor": 0,
 "worksheets": [
  {
   "cells": [
    {
     "cell_type": "markdown",
     "metadata": {},
     "source": [
      "# Estabilidade de sistemas lineares\n",
      "\n",
      "Primeiro algumas defini\u00e7\u00f5es sobre uma matriz $A\\in \\mathbb{M}_{n\\times n}$\n",
      "\n",
      "### espectro de $A$.\n",
      "\n",
      "Denotamos por $p_{A}(\\lambda) = \\det(\\lambda I -A) = \\lambda^n + a_1\\lambda^{n-1} + \\cdots + a_n $ o polin\u00f4mio caracter\u00edstico de $A$. O conjunto $\\sigma(A) =\\{ \\lambda \\in \\mathbb{C}: p_A(\\lambda)=0 \\}$ \u00e9 o *espectro de* $A$.\n",
      "O *tipo exponencial* de $A$ \u00e9 o n\u00famero $ \\omega(A) = \\sup\\{\\text{Re}(\\lambda): \\lambda \\in \\sigma(A)\\}$.\n",
      "\n",
      "### Lema\n",
      "Seja $A$ uma matriz quadrada com coeficientes reais e $\\omega > \\omega(A)$. Ent\u00e3o existe $M > 0$, tal que para todo $t>0$ e $x\\in \\mathbb{R}^n$ vale:\n",
      "$$\\| \\text{e}^{tA}x \\| \\leq M \\text{e}^{\\omega t}\\|x\\|$$\n",
      "\n",
      "### Teorema\n",
      "As seguintes condi\u00e7\u00f5es s\u00e3o equivalentes:\n",
      "\n",
      "1. $\\lim_{t\\to \\infty}\\text{e}^{tA}x = 0 \\text{ para } \\forall x \\in \\mathbb{R}^n.$\n",
      "2. $\\exists M > 0, \\omega > 0  : \\| \\text{e}^{tA}x \\| \\leq M \\text{e}^{-\\omega t}\\|x\\|$\n",
      "3. $\\omega(A) < 0$\n",
      "4. $\\int_0^\\infty \\|\\text{e}^{tA}x\\|dt$ converge para todo $x\\in \\mathbb{R}^n$.\n",
      "\n",
      "A matriz $A$ \u00e9 est\u00e1vel se ocorrer qualquer uma das condi\u00e7\u00f5es do teorema acima."
     ]
    },
    {
     "cell_type": "code",
     "collapsed": false,
     "input": [],
     "language": "python",
     "metadata": {},
     "outputs": []
    }
   ],
   "metadata": {}
  }
 ]
}