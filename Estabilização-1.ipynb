{
 "metadata": {
  "celltoolbar": "Slideshow",
  "kernelspec": {
   "codemirror_mode": {
    "name": "ipython",
    "version": 3
   },
   "display_name": "IPython (Python 3)",
   "language": "python",
   "name": "python3"
  },
  "name": "",
  "signature": "sha256:24b1d0b9b36896d6e9fb4e44e668e3cab72cc43732e2b1d921a09f677a696281"
 },
 "nbformat": 3,
 "nbformat_minor": 0,
 "worksheets": [
  {
   "cells": [
    {
     "cell_type": "markdown",
     "metadata": {
      "slideshow": {
       "slide_type": "slide"
      }
     },
     "source": [
      "# Estabiliza\u00e7\u00e3o e controlabilidade\n",
      "\n",
      "Consideramos um par de matrizes $(A,B)$ que define um sistema de controle linear\n",
      "$$\\dot{x}= Ax+Bu $$\n",
      "Diremos que este sistema \u00e9 estabiliz\u00e1vel por retroalimenta\u00e7\u00e3o de estados, se existe uma matriz\n",
      "$K \\in \\mathbb{M}_{m\\times n}$ tal que a matriz $A+BK$ seja est\u00e1vel. Por exemplo, consideremos o par de matrizes:\n",
      "$$ A = \\begin{pmatrix} 1 & 1 \\\\ 0 & -1 \\end{pmatrix} \\text{ e } B= \\begin{pmatrix} 1 \\\\ 0 \\end{pmatrix} $$\n",
      "\u00c9 f\u00e1cil ver que, por exemplo, a matriz\n",
      "$$ K = \\begin{pmatrix} -2 & -1 \\end{pmatrix}$$ estabiliza o sistema. O problema com este conceito de estabiliza\u00e7\u00e3o \u00e9 que, as vezes, n\u00e3o se pode controlar a velocidade com que a solu\u00e7\u00e3o converge  para zero. Usaremos uma defini\u00e7\u00e3o mais forte."
     ]
    },
    {
     "cell_type": "markdown",
     "metadata": {
      "slideshow": {
       "slide_type": "slide"
      }
     },
     "source": [
      "## Estabiliza\u00e7\u00e3o completa\n",
      "Diremos que o par $(A,B)$ \u00e9 completamente estabiliz\u00e1vel por retroalimenta\u00e7\u00e3o de estados se para todo $\\omega >0$ existe uma matriz $K_{\\omega}$ e um n\u00famero $M$ tal que\n",
      "$$ \\| \\text{e}^{t(A+BK_{\\omega})}x\\| \\leq M\\text{e}^{-\\omega t}\\|x\\|$$\n",
      "A caracteriza\u00e7\u00e3o deste tipo de estabiliza\u00e7\u00e3o est\u00e1 dada pelo teorema a seguir"
     ]
    },
    {
     "cell_type": "markdown",
     "metadata": {
      "slideshow": {
       "slide_type": "slide"
      }
     },
     "source": [
      "### teorema\n",
      "S\u00e3o equivalentes\n",
      "\n",
      "* O par $(A,B)$ \u00e9 completamente estabiliz\u00e1vel.\n",
      "\n",
      "* O par $(A,B)$ \u00e9 control\u00e1vel\n",
      "\n",
      "* Dado qualquer polin\u00f4mio m\u00f4nico de  grau $n$, $p(\\lambda)=\\lambda^n + a_1\\lambda^{n-1} + \\cdots a_n$, existe uma matriz $K_p \\in \\mathbb{M}_{m\\times n}$ tal que o polin\u00f4mio caracter\u00edstico de $A+bK_p$ seja $p(\\lambda)$"
     ]
    },
    {
     "cell_type": "code",
     "collapsed": false,
     "input": [],
     "language": "python",
     "metadata": {
      "slideshow": {
       "slide_type": "slide"
      }
     },
     "outputs": [],
     "trusted": true
    }
   ],
   "metadata": {}
  }
 ]
}