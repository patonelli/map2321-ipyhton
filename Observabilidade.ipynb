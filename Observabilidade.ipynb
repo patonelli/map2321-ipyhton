{
 "metadata": {
  "kernelspec": {
   "codemirror_mode": {
    "name": "ipython",
    "version": 3
   },
   "display_name": "IPython (Python 3)",
   "language": "python",
   "name": "python3"
  },
  "name": "",
  "signature": "sha256:2d37f97e5c97cd7537933c3b4a1abfaaedfc6eea96d355d12fd3262d5024c000"
 },
 "nbformat": 3,
 "nbformat_minor": 0,
 "worksheets": [
  {
   "cells": [
    {
     "cell_type": "markdown",
     "metadata": {},
     "source": [
      "## Observabilidade \n",
      "Retomemos a equa\u00e7\u00e3o do sistema linear\n",
      "$$\\begin{gather}\\dot{x}=Ax + Bu \\\\\n",
      "y=Cx \\end{gather}$$\n",
      "e verificamos a rela\u00e7\u00e3o entre as condi\u00e7\u00f5es iniciais do espa\u00e7o de estado e a sa\u00edda do sistema.\n",
      "A quest\u00e3o \u00e9: dado o controle admiss\u00edvel podemos identificar o estado inicial do sistema a partir da sa\u00edda $y(t)$. Diremos que os sistema \u00e9 _observ\u00e1vel_ em tempo $T$ se para quaisquer par de estados $x_a$ e $x_b$ diferentes, as respectivas fun\u00e7\u00f5es de sa\u00edda $y_a(t)$ e\n",
      "$y_b(t)$ tamb\u00e9m diferem. Ou seja: existe $t \\in [0,T]$ tal que $y_a(t)-y_b(t)\\neq 0$.\n",
      "\n",
      "Temos que $y_a(t)-y_b(t)=C\\exp(tA)(x_a-x_b)$, da\u00ed conclu\u00edmos que o sistema \u00e9 observ\u00e1vel em tempo $T$, ou o par $(A,C)$ \u00e9 observ\u00e1vel, se e somente se, $C\\exp(tA)\\mathbf{x} \\neq 0$\n",
      "para todo <math>\\mathbf{x}\\in\\mathbb{R}^n</math>.\n",
      "\n",
      "### Gramiano de observabilidade:\n",
      "\n",
      "Definimos a *matriz de observabilidade*:\n",
      "\n",
      "$$R_T=\\int_0^T \\exp(sA^\\prime)C^\\prime C \\exp(sA)ds$$\n",
      "\n",
      "Ent\u00e3o verificamos que\n",
      "$$\\int_0^T \\|{C\\exp(sA)\\mathbf{x} }\\|^2ds= < R_T \\mathbf{x},\\mathbf{x}>$$\n",
      "donde o par $(A,C)$ \u00e9 observ\u00e1vel se e somente se $R_T$ for invers\u00edvel.\n",
      "Como a matriz de observabilidade de $(A,C)$ \u00e9 exatamente a matriz de controlabilidade de \n",
      "$(A^\\prime,C^\\prime)$ temos as rela\u00e7\u00f5es de dualidade. \n",
      "O sistema anterior e observ\u00e1vel se e somente se o *sistema dual*\n",
      "$$ \\begin{gather} \\dot{z} = A^\\prime z + C^\\prime v \\\\\n",
      "w=B^\\prime z \\end{gather}$$ for control\u00e1vel.\n",
      "\n",
      "Analogamente ao caso da controlabilidade podemos escrever os crit\u00e9rios de Kalman para a observabilidade:\n",
      "o par $(A,C)$ \u00e9 observ\u00e1vel quando a matriz de kalman de observabilidade $np\\times n$\n",
      "$$\\mathbb{O}_{(A,C)}=\\begin{bmatrix} C \\\\ CA \\\\ \\vdots \\\\ CA^{n-1}\\end{bmatrix}$$\n",
      "tem posto m\u00e1ximo.\n"
     ]
    },
    {
     "cell_type": "code",
     "collapsed": false,
     "input": [],
     "language": "python",
     "metadata": {},
     "outputs": []
    }
   ],
   "metadata": {}
  }
 ]
}