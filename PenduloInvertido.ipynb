{
 "metadata": {
  "kernelspec": {
   "codemirror_mode": {
    "name": "python",
    "version": 3
   },
   "display_name": "Python 3",
   "language": "python",
   "name": "python3"
  },
  "name": "",
  "signature": "sha256:c728e0b79ffd80cfc04253a9362564f65efb152dd836a38b3a749e78bdf6711a"
 },
 "nbformat": 3,
 "nbformat_minor": 0,
 "worksheets": [
  {
   "cells": [
    {
     "cell_type": "markdown",
     "metadata": {},
     "source": [
      "# O P\u00eandulo invertido e lineariza\u00e7\u00e3o\n",
      "\n",
      "O problema do *P\u00eandulo Invertido* \u00e9 um cl\u00e1ssico da teoria de controle. Existem muitas vers\u00f5es poss\u00edveis mas vamos analisar o seguinte mod\u00ealo:\n",
      "![P\u1ebdndulo Invertido](http://wiki.stoa.usp.br/images/b/b6/Cart-pendulum.png)\n",
      "\n",
      "que est\u00e1 detalhado na [p\u00e1gina da Wikip\u00e9dia](http://en.wikipedia.org/wiki/Inverted_pendulum). As equa\u00e7\u00f5es do movimento s\u00e3o:\n",
      "$$ \\begin{gather}\\left ( M + m \\right ) \\ddot x - m l \\ddot \\theta \\cos \\theta + m l \\dot \\theta^2 \\sin \\theta = F\n",
      "\\\\\n",
      " (-g \\sin \\theta - \\ddot x \\cos \\theta + l \\ddot \\theta) = 0\\end{gather}$$\n",
      " Pensaremos na for\u00e7a $F$ (acelera\u00e7\u00e3o do carrinho) como o par\u00e2metro de controle. O sistema \u00e9 uma equa\u00e7\u00e3o diferencial de segunda ordem que pode ser colocado na forma explicita como:\n",
      " \n",
      " $$\n",
      " \\begin{equation*}\n",
      "\\begin{array}{l}\n",
      "{\n",
      "\\begin{bmatrix}\n",
      " (M + m) && - m l \\cos \\theta \\\\\n",
      " -\\cos \\theta && l\n",
      "\\end{bmatrix}\n",
      "}\n",
      "\\begin{bmatrix}\n",
      " \\ddot x \\\\\n",
      " \\ddot \\theta\n",
      "\\end{bmatrix}\n",
      "=\n",
      "{\n",
      "\\begin{bmatrix}\n",
      "  F - m l \\dot \\theta^2 \\sin \\theta \\\\\n",
      "  g \\sin \\theta\n",
      "\\end{bmatrix}}\n",
      "\\\\\n",
      "\\\\\n",
      "A \\ddot u = B \\text{, onde:  }\n",
      "u = \\begin{bmatrix}\n",
      "     x \\\\ \\theta\n",
      "    \\end{bmatrix}\n",
      "\\end{array}\n",
      "\\end{equation*}$$\n",
      "Resolvendo este sistema temos\n",
      "\n",
      "$$\n",
      "\\begin{gather}\n",
      "A^{-1} = \\frac{1}{\\det(A)}adj(A) \n",
      "\\\\ \n",
      "det A = (M + m)l - ml \\cos^2 \\theta = l[(M + m) -m\\cos^2 \\theta] = l(M + (1-\\cos^2 \\theta)m) = l(M + m \\sin^2 \\theta) \\\\\n",
      "adj(A) = \n",
      "\\begin{bmatrix}\n",
      " l & ml \\cos \\theta \\\\\n",
      " \\cos \\theta & (M + m)\n",
      "\\end{bmatrix} \\end{gather}$$\n",
      "\n",
      "da\u00ed:\n",
      "$$ \\begin{gather}\n",
      " \\begin{bmatrix}\n",
      " \\ddot x \\\\\n",
      " \\ddot \\theta\n",
      "\\end{bmatrix}\n",
      "=\n",
      "\\frac{1}{l(M + m \\sin^2 \\theta)}\n",
      "\\begin{bmatrix}\n",
      " l & ml \\cos \\theta \\\\\n",
      "\\cos \\theta & (M + m)\n",
      "\\end{bmatrix}\\begin{bmatrix}\n",
      "  F - m l \\dot{\\theta}^2 \\sin \\theta \\\\\n",
      "  g \\sin \\theta\n",
      "\\end{bmatrix}\n",
      "\\end{gather}$$\n",
      "\n"
     ]
    },
    {
     "cell_type": "markdown",
     "metadata": {},
     "source": [
      "## Sistema de primeira ordem:\n",
      "O sistema acima pode ser colocado na forma de um sistema de primeira ordem\n",
      "$$\\begin{equation*}\n",
      "\\begin{array}{l}\n",
      "\\dot x = v \\\\\n",
      "\\dot v = \\frac{Fl - ml^2 w^2 \\sin \\theta + mlg \\cos \\theta \\sin \\theta}{l(M + m \\sin^2 \\theta) } \\\\\n",
      "\\dot \\theta = w \\\\\n",
      "\\dot w = \\frac{ F \\cos \\theta - ml w^2 \\cos \\theta \\sin \\theta + (M + m)g \\sin \\theta }{l(M + m \\sin^2 \\theta) } \n",
      "\\end{array}\n",
      "\\end{equation*}$$\n",
      "Tomando inicialmente $F=0$, o ponto $(x_0,0,0,0)$ \u00e9 um ponto de equil\u00edbrio do sistema."
     ]
    },
    {
     "cell_type": "markdown",
     "metadata": {},
     "source": [
      "## Lineariza\u00e7\u00e3o em torno do ponto de equil\u00edbrio\n"
     ]
    }
   ],
   "metadata": {}
  }
 ]
}