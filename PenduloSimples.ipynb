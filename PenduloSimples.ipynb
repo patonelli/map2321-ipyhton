{
 "metadata": {
  "kernelspec": {
   "codemirror_mode": {
    "name": "python",
    "version": 3
   },
   "display_name": "Python 3",
   "language": "python",
   "name": "python3"
  },
  "name": "",
  "signature": "sha256:91dde158b5213b9c4d36f085f0aca159546704ce6dc62c05821cfe25f42d019a"
 },
 "nbformat": 3,
 "nbformat_minor": 0,
 "worksheets": [
  {
   "cells": [
    {
     "cell_type": "markdown",
     "metadata": {},
     "source": [
      "# O P\u00eandulo Simples\n",
      "Consideremos o p\u00eandulo conforme a figura abaixo\n",
      "\n",
      "![Um p\u00eandulo simples](http://www.ime.usp.br/~tonelli/imagens/pendulo.png)\n",
      "\n",
      "Para escrever as equa\u00e7\u00f5es do movimento deste P\u00eandulo escrevemos que:\n",
      "$$ \\begin{gather}\n",
      "\\mathbf{r}(t) = L(\\sin(\\theta) \\mathbf{i} - \\cos(\\theta)\\mathbf{j}) = L\\mathbf{e}_1(t) \\\\\n",
      "\\dot{\\mathbf{r}}(t) =L \\dot{\\mathbf{e}}_1(t) = L\\dot{\\theta}(\\cos{\\theta}\\mathbf{i} + \\sin{\\theta}\\mathbf{j})=L\\dot{\\theta}\\mathbf{e_2}(t) \\\\\n",
      "\\ddot{\\mathbf{r}}(t) = L\\ddot{\\theta}\\mathbf{e}_2(t) + L\\dot{\\theta}\\dot{\\mathbf{e}}_2(t)=-L\\dot{\\theta}^2\\mathbf{e}_1(t) + L\\ddot{\\theta}\\mathbf{e_2}(t)\n",
      "\\end{gather}$$\n",
      "As for\u00e7as que atuam na part\u00edcula s\u00e3o a for\u00e7a peso $-Mg\\mathbf{j}$ e for\u00e7a de rea\u00e7\u00e3o vincular da haste que segura a part\u00edcula $-\\alpha(t)\\mathbf{e}_1(t).$\n",
      "Como $\\mathbf{j}= -\\cos{\\theta}\\mathbf{e}_1 + \\sin{\\theta}\\mathbf{e}_2$, podemos reescrever a for\u00e7a   peso como\n",
      "$$ \\mathbf{P} = Mg\\cos{\\theta}\\mathbf{e}_1 - Mg\\sin{\\theta}\\mathbf{e}_2 $$ e aplicando a *lei de Newton* temos a equa\u00e7\u00e3o do movimento neste caso:\n",
      "$$ \\ddot{\\theta}(t) = -\\frac{g}{L}\\sin(\\theta) $$\n",
      "Esta equa\u00e7\u00e3o pode-se escrever como um sistema de EDO de primeira ordem:\n",
      "$$ \\begin{eqnarray}\n",
      "\\dot{\\theta} &= & \\omega\\\\\n",
      "\\dot{\\omega} & = & -\\frac{g}{L}\\sin(\\theta)\n",
      "\\end{eqnarray}$$"
     ]
    },
    {
     "cell_type": "markdown",
     "metadata": {},
     "source": [
      "## O p\u00eandulo e o problema de controle\n",
      "Os pontos da forma $(\\dfrac{n\\pi}{2},0)$ s\u00e3o pontos de equil\u00edbrio do sistema acima. Quando $n$ \u00e9 \u00edmpar os pontos de equil\u00edbrios s\u00e3o int\u00e1veis. Podemos acrescentar um torque ajust\u00e1vel no p\u00eandulo de forma que a equa\u00e7\u00e3o do sistema depende agora desta nova vari\u00e1vel:\n",
      "$$ \\begin{eqnarray}\n",
      "\\dot{\\theta} &= & \\omega\\\\\n",
      "\\dot{\\omega} & = & -\\frac{g}{L}\\sin(\\theta) + u(t)\n",
      "\\end{eqnarray}$$\n",
      "Podemos escolher este torque de modo que os pontos de equil\u00edbrios inst\u00e1veis fiquem est\u00e1veis?\n"
     ]
    },
    {
     "cell_type": "markdown",
     "metadata": {},
     "source": []
    }
   ],
   "metadata": {}
  }
 ]
}