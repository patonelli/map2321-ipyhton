{
 "metadata": {
  "name": "",
  "signature": "sha256:0e513905350573e121a1d9794365e4bff1660c8785c98473a94d36bf31272b70"
 },
 "nbformat": 3,
 "nbformat_minor": 0,
 "worksheets": [
  {
   "cells": [
    {
     "cell_type": "markdown",
     "metadata": {},
     "source": [
      "## A fun\u00e7\u00e3o de transfer\u00eancia\n",
      "\n",
      "A fun\u00e7\u00e3o de transfer\u00eancia de um sistema \u00e9 a transformada de Laplace da fun\u00e7\u00e3o de resporta ao impulso:\n",
      "$$ T(z) = \\mathcal{L}(\\Psi(t)) = \\int_0^\\infty \\text{e}^{-zs}\\Psi(s)ds $$\n",
      "Note que se $(A,B,C)$ for uma realiza\u00e7\u00e3o de $\\Psi(t)$, ent\u00e3o $\\Psi(t)=C\\text{e}^{tA}B$ e portanto teremos\n",
      "$$T(z) =C(zI - A)^{-1} B$$ de definimos qualquer trio $(A,B,C)$ que satisfaz esta ultima equa\u00e7\u00e3o como uma realiza\u00e7\u00e3o da fun\u00e7\u00e3o de transfer\u00eancia $T(z)$. "
     ]
    },
    {
     "cell_type": "markdown",
     "metadata": {},
     "source": [
      "### Obten\u00e7\u00e3o da fun\u00e7\u00e3o de transfer\u00eancia\n",
      "Usando uma entrada $u(t) = \\text{e}^{i\\omega t}v$, a resposta pode se escrever\n",
      "$$ \\begin{gather}\n",
      "y(t) = \\int_0^t \\Psi(t-s)\\text{e}^{i\\omega s}vds = \\int_0^t \\Psi(s)\\text{e}^{i\\omega (t-s)}vds \\\\\n",
      "   =  \\int_0^\\infty \\Psi(s)\\text{e}^{i\\omega (t-s)}vds -\\int_t^\\infty \\Psi(s)\\text{e}^{i\\omega (t-s)}vds \\\\\n",
      "    = \\text{e}^{i\\omega t}\\int_0^\\infty \\Psi(s)\\text{e}^{-i\\omega s}vds - \\Psi(t)\\int_0^\\infty\\Psi(s)\\text{e}^{-i\\omega s}vds \\\\\n",
      "    = \\text{e}^{i\\omega t}T(i\\omega) - \\Psi(t)T(i\\omega)\n",
      "\\end{gather}$$\n",
      "Quando $A$ \u00e9 est\u00e1vel, ent\u00e3o $\\Psi(t) \\to 0$ se $t\\to \\infty$ e poderemos desprezar o segundo termo, e neste caso, quando $m=p=1$, podemos escrever $T(i\\omega)=\\rho(\\omega)\\text{e}^{\\alpha(\\omega)i}$, ou seja:\n",
      "$$ y_\\omega (t) = \\rho(\\omega)\\text{e}^{(\\omega t + \\alpha(\\omega))i}$$ que nos informa o suficiente sobre a fun\u00e7\u00e3o de transfer\u00eancia."
     ]
    },
    {
     "cell_type": "code",
     "collapsed": true,
     "input": [],
     "language": "python",
     "metadata": {},
     "outputs": []
    }
   ],
   "metadata": {}
  }
 ]
}