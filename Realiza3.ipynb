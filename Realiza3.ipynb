{
 "metadata": {
  "name": "",
  "signature": "sha256:385494a6313050f0a37ca2c522b9e84fa557603dcca52e564adf1275148095c7"
 },
 "nbformat": 3,
 "nbformat_minor": 0,
 "worksheets": [
  {
   "cells": [
    {
     "cell_type": "markdown",
     "metadata": {},
     "source": [
      "## Realiza\u00e7\u00e3o da fun\u00e7\u00e3o resposta ao impulso.\n",
      "\n",
      "Seja $\\Psi : \\mathbb{R} \\to \\mathbb{M}_{p\\times m}$ de classe $\\mathcal{C}^1$ uma  fun\u00e7\u00e3o e suponha que existe $n\\in \\mathbb{N}$ e fun\u00e7\u00f5es $G:\\mathbb{R} \\to \\mathbb{M}_{p\\times n}$ e $H:\\mathbb{R} \\to \\mathbb{M}_{n\\times m}$ tal que\n",
      "$$ \\Psi(t-s)=G(t)H(s) \\text{ para todo } t>s.$$ Ent\u00e3o $\\Psi(t)$ admite uma realiza\u00e7\u00e3o $(A,B,C)$."
     ]
    },
    {
     "cell_type": "markdown",
     "metadata": {},
     "source": [
      "#### Prova:\n",
      "Definimos\n",
      "$$ W = \\int_0^T H(s)H^\\prime(s)ds $$\n",
      "onde $H^\\prime$ denota a transposta de $H$. Suponha, em primeiro lugar que $W$ seja invers\u00edvel.\n",
      "$$ \\begin{gather}\n",
      "\\phi(t,s) = \\Psi(t-s) \\implies 0= \\frac{\\partial \\phi}{\\partial t} + \\frac{\\partial \\phi}{\\partial s} = \\dot{G}(t)H(s) + G(t)\\dot{H}(s) \\\\\n",
      "\\implies \\dot{G}(t)W = -G(t)\\int_0^T\\dot{H}(s)H^\\prime(s)ds \\implies \\dot{G}(t) = G(t)A\n",
      "\\end{gather}$$\n",
      "onde \n",
      "$$A= -\\int_0^T\\dot{H}(s)H^\\prime(s)dsW^{-1}$$\n",
      "A solu\u00e7\u00e3o desta equa\u00e7\u00e3o diferencial \u00e9\n",
      "$$G(t) = G(T)\\text{e}^{(t-T)A}$$\n",
      "Escrevendo\n",
      "$$\\Psi(t) = \\Psi((t+T) - T)=G(t+H)H(T)= G(T)\\text{e}^{tA}H(T) $$\n",
      "A realiza\u00e7\u00e3o \u00e9 ent\u00e3o \n",
      "$$\\begin{gather} A = -\\int_0^T\\dot{H}(s)H^\\prime(s)dsW^{-1} \\\\\n",
      " B= H(T) \\\\\n",
      " C= G(T) \\end{gather}$$"
     ]
    },
    {
     "cell_type": "markdown",
     "metadata": {},
     "source": [
      "Para terminar a prova do teorema precisamos do seguinte Lema:\n",
      "### Lema \n",
      "\n",
      "Nas hip\u00f3teses do teorema acima, se a matriz $W$ n\u00e3o \u00e9 invers\u00edvel ent\u00e3o existem fun\u00e7\u00f5es, $\\tilde{G}:\\mathbb{R} \\to \\mathbb{M}_{p\\times l}$ e $\\tilde{H}:\\mathbb{R} \\to \\mathbb{M}_{l\\times m}$ tal que\n",
      "$ \\Psi(t-s)=\\tilde{G}(t)\\tilde{H}(s) \\text{ para todo } t>s,$ e $\\int_0^T \\tilde{H}(s)\\tilde{H}^\\prime(s)ds$ \u00e9 invers\u00edvel.\n",
      "\n",
      "**Prova**\n",
      "Suponha que $\\text{posto}W = l$. Como $W$ \u00e9 semi-definida positiva ent\u00e3o existe uma matriz ortogonal $P$ tal que \n",
      "$$ PWP^\\prime = \\begin{bmatrix}\\lambda_1 & 0 & \\cdots & 0 \\\\\n",
      "0 & \\lambda_2 & \\cdots & 0 \\\\\n",
      "\\cdots & \\cdots & \\ddots & 0 \\\\\n",
      "0 & 0& \\cdots & 0\n",
      "\\end{bmatrix}$$ onde $\\lambda_1, \\dots , \\lambda_l$ s\u00e3o os autovalores reais positivos de $W$.\n",
      "Definimos agora a matriz $L=(l_{ij}) \\in \\mathbb{M}_{n\\times n}$ com a defini\u00e7\u00e3o\n",
      "$l_{ii} = 1/\\sqrt{\\lambda_i}$ se $i\\leq l,$  $l_{ii}=1$ se $i>l$ e $l_{ij}=0$ nos outros casos.\n",
      "Ent\u00e3o teremos\n",
      "$$(LP)W(LP)^\\prime = \\begin{bmatrix}\\mathbf{I}_l & 0 \\\\ 0 & 0 \\end{bmatrix}=V = \\begin{bmatrix}\\mathbf{I}_l \\\\ 0\\end{bmatrix} \\begin{bmatrix} \\mathbf{I}_l & 0 \\end{bmatrix} = L_1 L_1^\\prime\n",
      "$$\n",
      "Observe que $V^k =V$ pois precisaremos disso. Denotando tamb\u00e9m $(PL)^{-1} = Q$ temos\n",
      "$$ W = QVQ^\\prime $$\n",
      "Usando estas identidades podemos mostrar que\n",
      "$$\\int_0^T (QVQ^{-1}H(s) - H(s))(QVQ^{-1}H(s) - H(s))^\\prime =0 $$ e portanto\n",
      "$$ QVQ^{-1}H(s) - H(s) =0 \\text{  } \\forall t \\in [0,T]$$\n",
      "\n",
      "Da\u00ed \n",
      "$$ G(t)H(s) = G(t)QVQ^{-1}H(s) = (G(t)QL_1)(L_1^\\prime Q^{-1}H(s) $$\n",
      "e\n",
      "$$\\tilde{G}(t) = G(t)QL_1 \\text{ e } \\tilde{H}(s) = L_1^\\prime Q^{-1}H(s)$$\n",
      "\n"
     ]
    },
    {
     "cell_type": "code",
     "collapsed": true,
     "input": [],
     "language": "python",
     "metadata": {},
     "outputs": []
    }
   ],
   "metadata": {}
  }
 ]
}