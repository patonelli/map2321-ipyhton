{
 "cells": [
  {
   "cell_type": "markdown",
   "metadata": {},
   "source": [
    "# Realiza\u00e7\u00e3o da fun\u00e7\u00e3o de transfer\u00eancia $T(z)$\n",
    "\n",
    "Seja $T : \\Omega \\subset \\mathbb{C} \\to \\mathbb{M}_{p\\times m} = (t_{ij}(z))$ uma fun\u00e7\u00e3o de transfer\u00eancia. A tripla de matrizes $(A,B,C)$ \u00e9 uma realiza\u00e7\u00e3o de $T(z)$ se tivermos $T(z) = C(zI-A)^{-1}B$. Da\u00ed, uma condi\u00e7\u00e3o necess\u00e1ria para a exist\u00eancia de uma realiza\u00e7\u00e3o \u00e9 que existam polin\u00f4mios $n_{ij}(z)$ e $d_{ij}(z)$ com $\\text{grau}(d_{ij}) > \\text{grau}(n_{ij})$ e $t_{ij}(z) = \\dfrac{n_{ij}(z)}{d_{ij}(z)}$. Veremos que esta condi\u00e7\u00e3o tamb\u00e9m \u00e9 suficiente."
   ]
  },
  {
   "cell_type": "markdown",
   "metadata": {},
   "source": [
    "### Converg\u00eancia da s\u00e9rie geom\u00e9trica\n",
    "Lembramos que \n",
    "$$ \\sum_{k=0}^\\infty a^k = \\frac{1}{1-a} \\text{ para } \\|a\\| \\lt 1 $$\n",
    "Em particular, temos para as fun\u00e7\u00f5es\n",
    "$$ f(z) = \\frac{1}{z-a} = \\frac{1}{z(1-\\frac{a}{z})} = \\sum_{k=0}^\\infty \\frac{a^k}{z^{k+1}} \\text{ para } \\|z\\|\\gt \\|a\\|$$\n",
    "Esta express\u00e3o chamaremos de *desenvolvimento em torno de infinito* da fun\u00e7\u00e3o $f(z)$."
   ]
  },
  {
   "cell_type": "markdown",
   "metadata": {},
   "source": [
    "### Desenvolvimento em torno de infinito da fun\u00e7\u00e3o de transfer\u00eancia\n",
    "Cada componente $t_{ij}(z)$ de $T(z)$ tem um desenvolvimento em torno de infinito, se satisfaz a hip\u00f3tese anterior. Assim podemos escrever;\n",
    "$$ T(z) = \\sum_{k=0}^\\infty \\frac{W_k}{z^{k+1}} \\text{ onde } W_k \\in \\mathbb{M}_{p\\times m} $$\n",
    "Por outro lado, o desenvolvimento de $C(zI-A)^{-1}B$ \u00e9 \n",
    "$$ \\sum_{k=0}^\\infty \\frac{CA^kB}{z^{k+1}} $$ comparando os termos das duas s\u00e9ries temos\n",
    "$$ W_k = CA^kB $$ e para achar uma realiza\u00e7\u00e3o de $T(z)$ basta encontrar a tripla que satisfaz as rela\u00e7\u00f5es acima."
   ]
  },
  {
   "cell_type": "markdown",
   "metadata": {},
   "source": [
    "### Recorr\u00eancia dos termos  $W_k$\n",
    "\n",
    "Considere o polin\u00f4mio $p(z) = z^n + a_1 z^{n-1}+ \\cdots + a_n$ que \u00e9 o mmc dos polin\u00f4mios $d_{ij}(z)$. Agora $p(z)T(z)$ \u00e9 uma matriz com polin\u00f4mios ent\u00e3o devemos ter as rela\u00e7\u00f5es:\n",
    "$$ W_n + a_1W_{n-1}+ \\cdots a_nW_0 =0 $$ e, de forma geral,\n",
    "\n",
    "$$ W_{l+n} + a_1W_{l+n-1}+ \\cdots a_nW_l =0 \\text{ para todo } l.$$"
   ]
  },
  {
   "cell_type": "markdown",
   "metadata": {},
   "source": [
    "### Cosntru\u00e7\u00e3o da realiza\u00e7\u00e3o:\n",
    "Isto nos permite construir a realiza\u00e7\u00e3o da seguinte forma:\n",
    "Denotemos por $I_p$ a matriz identidade de $\\mathbb{M}_{p\\times p}$ e por $0_p$ a matriz nula de $\\mathbb{M}_{p\\times p}$. \n",
    "\n",
    "- Fazemos $C = \\left[ I_p 0_p \\cdots 0_p \\right] \\in \\mathbb{M}_{p\\times np}$\n",
    "- Fazemos $ B = \\begin{bmatrix}W_0 \\\\ \\vdots \\\\ W_{n-1} \\end{bmatrix} \\in \\mathbb{M}_{np \\times m}$\n",
    "\n",
    "- e finalmente $A = \\begin{bmatrix}0_p & I_p & 0_p & \\cdots &0_p \\\\\n",
    "0_p & 0_p & I_p & \\cdots & 0_p \\\\ \\vdots & \\vdots & & & \\\\ -a_nI_p & -a_{n-1}I_p & - a_{n-2}I_p & \\cdots & -a_1I_p\\end{bmatrix} \\in \\mathbb{M}_{np\\times np}.$"
   ]
  },
  {
   "cell_type": "code",
   "execution_count": null,
   "metadata": {
    "collapsed": true
   },
   "outputs": [],
   "source": []
  }
 ],
 "metadata": {
  "kernelspec": {
   "display_name": "IPython (Python 3)",
   "name": "python3"
  },
  "language_info": {
   "codemirror_mode": {
    "name": "ipython",
    "version": 3
   },
   "mimetype": "text/x-python",
   "name": "python",
   "pygments_lexer": "ipython3"
  },
  "signature": "sha256:bc182c1e8f0cbb4996a4e3cb67cf2826d19f5a09097939e7a4b0400fa734d303"
 },
 "nbformat": 4,
 "nbformat_minor": 0
}