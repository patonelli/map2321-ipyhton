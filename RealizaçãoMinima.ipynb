{
 "cells": [
  {
   "cell_type": "markdown",
   "metadata": {},
   "source": [
    "## Realiza\u00e7\u00e3o m\u00ednima\n",
    "Os nossos algoritmos para a realiza\u00e7\u00e3o, tanto da fun\u00e7\u00e3o resposta ao impulso quanto da fun\u00e7\u00e3o de tranfer\u00eancia, podem fornecer matrizes de sistemas que n\u00e3o sejam control\u00e1veis ou observaveis. Quando uma realiza\u00e7\u00e3o \u00e9 control\u00e1vel e observ\u00e1vel e chamada de **Realiza\u00e7\u00e3o M\u00ednima**"
   ]
  },
  {
   "cell_type": "markdown",
   "metadata": {},
   "source": [
    "### Teorema\n",
    "<div style=\"background-color:#ccefcc\">\n",
    "\n",
    "Se $\\psi(t)$ \u00e9 uma fun\u00e7\u00e3o resposta ao impulso com realiza\u00e7\u00e3o $(A,B,C)$. Ent\u00e3o $\\psi(t)$ possui uma realiza\u00e7\u00e3o m\u00ednima.\n",
    "\n",
    "</div>\n",
    "\n",
    "Primeiro suponha que o par $(A,B)$ n\u00e3o seja control\u00e1vel, e o posto da matriz de Kalman seja $l\\lt n$ ( obs: $A\\in \\mathbb{M}_{n\\times n}$). Usando a forma de Kalman das matrizes temos que existe uma matriz invers\u00edvel $P$ talque\n",
    "$$ P^{-1} A P = \\begin{bmatrix} A_{11} & A_{12} \\\\ \\mathbf{0} & A_{22}\\end{bmatrix} = A_1 $$\n",
    "e\n",
    "$$ P^{-1}B = \\begin{bmatrix} B_{11} \\\\ \\mathbf{0} \\end{bmatrix} = B_1 $$ e $(A_{11},B_{11})$ control\u00e1vel. Se $C_{11}$ \u00e9 a matriz formada com as $l$ primeiras colunas da matriz $CP$ ent\u00e3o podemos ver que $(A_{11},B_{11},C_{11})$ ser\u00e1 uma outra realiza\u00e7\u00e3o de $\\psi(t)$, desta vez control\u00e1vel."
   ]
  },
  {
   "cell_type": "markdown",
   "metadata": {},
   "source": [
    "Suponha agora que $(A,B,C)$ seja uma realiza\u00e7\u00e3o control\u00e1vel, mas n\u00e3o observ\u00e1vel. Ent\u00e3o novamente usando a teoria da forma de Kalman encontramos uma matriz invers\u00edvel $Q \\in \\mathbb{M}_{n\\times n}$ tal que\n",
    "$$ Q^{-1} A Q = \\begin{bmatrix} A_{11} & \\mathbf{0}\\\\ A_{12} & A_{22}\\end{bmatrix} = A_1 $$ e\n",
    "$$ CQ = \\begin{bmatrix} C_{11} & \\mathbf{0} \\end{bmatrix} = C_1 $$\n",
    "Com $A_{11}$ matrix quadrada de dimens\u00e3o $k$ e o par $(A_{11},C_{11})$ observ\u00e1vel. Agora definimos $B_{11}$ como a matriz formada com as $k$ primeiras linhas de $Q^{-1}B$. Verifica-se que $(A_{11},B_{11},C_{11})$ ser\u00e1 uma realiza\u00e7\u00e3o de $\\psi(t)$,\n",
    "$(A_{11},C_{11})$ \u00e9 observ\u00e1vel por constru\u00e7\u00e3o e $(A_{11},B_{11})$ continua control\u00e1vel."
   ]
  },
  {
   "cell_type": "code",
   "execution_count": 0,
   "metadata": {
    "collapsed": true
   },
   "outputs": [],
   "source": []
  }
 ],
 "metadata": {
  "kernelspec": {
   "display_name": "IPython (Python 3)",
   "name": "python3"
  },
  "language_info": {
   "codemirror_mode": {
    "name": "ipython",
    "version": 3
   },
   "mimetype": "text/x-python",
   "name": "python",
   "pygments_lexer": "ipython3"
  },
  "signature": "sha256:2510f98d3c262b51baa9732e3c6f594d81ea5659b69e48803172c68055297c28"
 },
 "nbformat": 4,
 "nbformat_minor": 0
}