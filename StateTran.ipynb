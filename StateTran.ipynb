{
 "metadata": {
  "kernelspec": {
   "codemirror_mode": {
    "name": "python",
    "version": 3
   },
   "display_name": "Python 3",
   "language": "python",
   "name": "python3"
  },
  "name": "",
  "signature": "sha256:5e527303c2452b16803f90f985fb483017109acb409ec18d75b53464bdc91e5c"
 },
 "nbformat": 3,
 "nbformat_minor": 0,
 "worksheets": [
  {
   "cells": [
    {
     "cell_type": "markdown",
     "metadata": {},
     "source": [
      "# Aplica\u00e7\u00e3o transi\u00e7\u00e3o de estados\n",
      "\n",
      "## Solu\u00e7\u00e3o do sistema linear homog\u00eaneo\n",
      "Considera-se o problema de Cauchy\n",
      "$$ \\begin{eqnarray}\n",
      "\\dot{\\mathbf{x}} &= &A\\mathbf{x}\\\\\n",
      "\\mathbf{x}(t_0)&=&\\mathbf{x}_0\n",
      "\\end{eqnarray}$$\n",
      "Usando a exponencial de matrizes pode-se expressar a \u00fanica solu\u00e7\u00e3o deste problema como\n",
      "$$ \\varphi(t,t_0,\\mathbf{x_0})= \\exp{(t-t_0)A}\\mathbf{x}_0$$"
     ]
    },
    {
     "cell_type": "markdown",
     "metadata": {},
     "source": [
      "## Sistema linear n\u00e3o homog\u00eaneo\n",
      "\n",
      "Seja $v(t)$ uma fun\u00e7\u00e3o integr\u00e1vel em todo intervalo compacto. Toma-se o seguinte problema de Cauchy:\n",
      "$$ \\begin{eqnarray}\n",
      "\\dot{\\mathbf{x}} &= &A\\mathbf{x} + v(t)\\\\\n",
      "\\mathbf{x}(t_0)&=&\\mathbf{x}_0\n",
      "\\end{eqnarray}$$\n",
      "O m\u00e9todo da *varia\u00e7\u00e3o das constantes* fornece a solu\u00e7\u00e3o deste problema:\n",
      "Define-se:\n",
      "$$ \\mathbf{y}(t) = \\exp{(t_0-t)A }\\mathbf{x}(t)$$\n",
      "ent\u00e3o\n",
      "$$ \\dot{\\mathbf{y}}(t) = -A\\exp{(t_0-t)A} \\mathbf{x}(t) + \\exp{(t_0-t)A} \\dot{\\mathbf{x}}(t)=\\exp{(t_0-t)A)}\\left(\\dot{\\mathbf{x}}-A\\mathbf{x}\\right) = \\exp{(t_0-t)A}v(t)$$\n",
      "o segundo membro pode-se integrar diretamente:\n",
      "\n",
      "$$ \\mathbf{y}(t) = \\mathbf{y}(t_0) + \\int_{t_0}^t\\exp{(t_0-s)A}v(s)ds $$ \n",
      "\n",
      "donde finalmente obtemos a solu\u00e7\u00e3o\n",
      "\n",
      "$$ \\varphi(t,t_0,\\mathbf{x_0})= \\exp{(t-t_0)A}\\mathbf{x}_0 + \\int_{t_0}^t\\exp{(t-s)A}v(s)ds $$"
     ]
    },
    {
     "cell_type": "markdown",
     "metadata": {},
     "source": [
      "## Caso de controle:\n",
      "\n",
      "* $\\mathbb{R}^n$ \u00e9 o espa\u00e7o de estados.\n",
      "\n",
      "* $\\mathbb{R}^m$ \u00e9 o espa\u00e7o de entradas.\n",
      "\n",
      "* $\\mathcal{U} = \\{ u: \\mathbb{R} \\to \\mathbb{R}^m, \\text{ localmente integr\u00e1veis. }\\}$. \u00e9 o espa\u00e7o dos controles admiss\u00edveis.\n",
      "\n",
      "A din\u00e2mica de um sistema linear \u00e9 dada por:\n",
      "\n",
      "$$ \\begin{eqnarray}\n",
      "\\dot{x} = Ax + Bu(t) \n",
      "\\end{eqnarray}$$\n",
      "\n",
      "A fun\u00e7\u00e3o de transi\u00e7\u00e3o de estados \u00e9 dada por\n",
      "$$ \\varphi(t,t_0,x_0,u(\\cdot)) = \\exp{(t-t_0)A}x_0 + \\int_{t_0}^t \\exp{(t-s)A}Bu(s)ds $$"
     ]
    },
    {
     "cell_type": "markdown",
     "metadata": {},
     "source": []
    }
   ],
   "metadata": {}
  }
 ]
}