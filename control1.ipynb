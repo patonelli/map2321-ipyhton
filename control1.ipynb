{
 "metadata": {
  "kernelspec": {
   "codemirror_mode": {
    "name": "python",
    "version": 3
   },
   "display_name": "Python 3",
   "language": "python",
   "name": "python3"
  },
  "name": "",
  "signature": "sha256:7dda13b36700656bd7a687dc212aa42eeb79e5b9188a06b7efe60314fedac8bb"
 },
 "nbformat": 3,
 "nbformat_minor": 0,
 "worksheets": [
  {
   "cells": [
    {
     "cell_type": "markdown",
     "metadata": {},
     "source": [
      "# Controlabilidade de Sistemas Lineares\n",
      "\n",
      "Consideremos duas matrizes $A \\in \\mathbb{M}_{n\\times n}$ e $ B \\in \\mathbb{M}_{n\\times m}$, que define um sistema de controle linear dado pela din\u00e2mica\n",
      "$$ \\dot{x}(t) = Ax(t) + Bu(t) $$\n",
      "com $u(\\cdot)$ no espa\u00e7o vetorial de fun\u00e7\u00f5es $\\mathcal{U} =\\{ u:\\mathbb{R} \\to \\mathbb{R}^m \\}$ localmente integr\u00e1veis.\n",
      "A solu\u00e7\u00e3o desse sistema que no instante $t_0$ passa por $x_0$ \u00e9:\n",
      "$$\\varphi(t,t_0,x_0,u(\\cdot))= \\text{e}^{(t-t_0)A}x_0 + \\int_{t_0}^t\\text{e}^{(t-s)A}Bu(s)ds$$"
     ]
    },
    {
     "cell_type": "markdown",
     "metadata": {},
     "source": [
      "O conjunto\n",
      "$$ \\mathcal{A}(t,t_0,x_0) = \\{x\\in \\mathbb{R}^n: (\\exists u(\\cdot) \\in \\mathcal{U}) \\wedge (x = \\varphi(t,t_0,x_0,u(\\cdot)))\\} $$\n",
      "Este conjunto chamaremos de *conjunto de controlabilidade*. Queremos condi\u00e7\u00f5es sobre o par de matrizes $(A,B)$ para que este conjunto seja todo espa\u00e7o de estados $\\mathbb{R}^n$, e neste caso diremos que o par $(A,B)$, ou o sistema seja control\u00e1vel."
     ]
    },
    {
     "cell_type": "markdown",
     "metadata": {},
     "source": [
      "### Primeiras observa\u00e7\u00f5es sobre $\\mathcal{A}(t,t_0,x_0)$\n",
      "\n",
      "* $\\mathcal{A}(t,t_0,x_0) = \\text{e}^{(t-t_0)A}x_0 + \\{ \\int_{t_0}^t\\text{e}^{(t-s)A}Bu(s)ds : u(\\cdot) \\in \\mathcal{U}\\} = \\text{e}^{(t-t_0)A}x_0 +\\mathcal{A}(t,t_0,0).$\n",
      "\n",
      "* $\\mathcal{A}(t,t_0,0)= \\text{Im}\\mathcal{L}$ onde $\\mathcal{L}$ \u00e9 o operador linear\n",
      "$$ \\begin{gather}\\mathcal{L}:\\mathcal{U} \\to \\mathbb{R}^n \\\\\n",
      "\\mathcal{L}(u(\\cdot))=\\int_{t_0}^t\\text{e}^{(t-s)A}Bu(s)ds\n",
      "\\end{gather}$$\n",
      "\n",
      "* Assim o par $(A,B)$ \u00e9 control\u00e1vel se, e somente se, $\\text{Im}\\mathcal{L}=\\mathbb{R}^n$\n",
      "\n",
      "### Exemplo:\n",
      "Podemos reescrever a equa\u00e7\u00e3o $\\ddot{x}(t) = u(t)$ como:\n",
      "$$\\begin{pmatrix}\\dot{x} \\\\ \\dot{y} \\end{pmatrix}=\\begin{pmatrix}0 & 1 \\\\ 0 & 0 \\end{pmatrix}\\begin{pmatrix} x \\\\ y \\end{pmatrix} + \\begin{pmatrix} 0 \\\\ 1 \\end{pmatrix} u(t) $$\n",
      "Pode-se verificar facilmente que \n",
      "$$ \\text{e}^{(t-t_0)A} = \\begin{pmatrix} 1 & t-t_0 \\\\ 0 & 1\\end{pmatrix} \\text{ e } \\mathcal{L}(u) = \\begin{pmatrix} \\int_{t_0}^t(t-s)u(s) ds \\\\ \\int_{t_0}^t u(s) ds \\end{pmatrix}$$\n",
      "\n",
      "Dado um ponto $(x_0,y_0)$ qualquer de $\\mathbb{R}^n$ e tomando um controle da forma $u(t) =at + b$, ent\u00e3o podemos resolver o sistema:\n",
      "$$ \\begin{eqnarray}\n",
      "a \\int_{t_0}^t (t-s)sds + b \\int_{t_0}^t(t-s)ds & = & x_0 \\\\\n",
      "a \\int_{t_0}^ts ds  + b \\int_{t_0}^t ds&=& y_0 \n",
      "\\end{eqnarray}$$\n",
      "para mostrar que este par de matrizes \u00e9 control\u00e1vel.\n",
      "\n",
      "#### Exerc\u00edcio:\n",
      "verifique que o par de matrizes $(A,B)$ com:\n",
      "$$ A = \\begin{pmatrix} 0 & 1 \\\\ 0 & 0 \\end{pmatrix} \\text{ e } B= \\begin{pmatrix} 1 \\\\ 0 \\end{pmatrix}$$\n",
      "n\u00e3o \u00e9 control\u00e1vel."
     ]
    },
    {
     "cell_type": "markdown",
     "metadata": {},
     "source": []
    }
   ],
   "metadata": {}
  }
 ]
}