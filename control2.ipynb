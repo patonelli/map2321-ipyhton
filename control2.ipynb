{
 "metadata": {
  "kernelspec": {
   "codemirror_mode": {
    "name": "python",
    "version": 3
   },
   "display_name": "Python 3",
   "language": "python",
   "name": "python3"
  },
  "name": "",
  "signature": "sha256:d7e26434015bb5b7f3677b03b0a7211a80f0eed4e0a8c7c29020575ee1de0f66"
 },
 "nbformat": 3,
 "nbformat_minor": 0,
 "worksheets": [
  {
   "cells": [
    {
     "cell_type": "markdown",
     "metadata": {},
     "source": [
      "# A Matriz de Controlabilidade\n",
      "Antes de mais nada vamos tratar de uma propriedade importante de nossos sistemas lineares: a invari\u00e2ncia no tempo. Isto se reflete na seguinte propriedade da fun\u00e7\u00e3o de transi\u00e7\u00e3o de estados:\n",
      "\n",
      "$$ \\varphi(t,t_0,x_0,u(\\cdot)) = \\varphi(t-t_0,0,x_0, v(\\cdot))$$\n",
      "onde $v(t) = u(t+t_0)$.\n",
      "Para ver isto basta analisar a parte controlada do sistema. A parte controlada de $\\varphi(t,t_0,x_0,u(\\cdot))$ \u00e9\n",
      "$$ \\begin{gather} \\int_{t_0}^t \\text{e}^{(t-s)A}Bu(s)ds = \\int_{0}^{t-t_0}\\text{e}^{(t-t_0 -r)A}Bu(r+t_0)dr\n",
      "\\end{gather}$$\n",
      "Desta forma para estudarmos a controlabilidade de nosso caso linear basta estudar o conjunto:\n",
      "$$ \\mathcal{A}(T) = \\left\\{ \\int_0^T \\text{e}^{(T-s)A}Bu(s)ds: u(\\cdot) \\in \\mathcal{U}\\right\\} =\\left\\{ \\int_0^T \\text{e}^{sA}Bu(T-s)ds: u(\\cdot) \\in \\mathcal{U}\\right\\}$$"
     ]
    },
    {
     "cell_type": "markdown",
     "metadata": {},
     "source": [
      "## Gramiano de controlabilidade\n",
      "\n",
      "Para um $T>0$, definimos o *Gramiano de controlabilidade* como a matriz sim\u00e9trica:\n",
      "$$Q_T = \\int_0^T \\text{e}^{sA}BB^\\prime\\text{e}^{sA^\\prime}ds $$\n",
      "Nesta f\u00f3rmula $A^\\prime$ \u00e9 a transposta da matriz $A$.\n"
     ]
    },
    {
     "cell_type": "markdown",
     "metadata": {},
     "source": [
      "## exerc\u00edcios:\n",
      "Calcular os gramianos de controlabilidade nos casos\n",
      "\n",
      "* $A=\\begin{pmatrix}0&1 \\\\ 0 & 0\\end{pmatrix}$ e $ B=\\begin{pmatrix} 0 \\\\ 1 \\end{pmatrix}$\n",
      "\n",
      "* $A=\\begin{pmatrix}1&1 \\\\ 0 & 1\\end{pmatrix}$ e $ B=\\begin{pmatrix} 1\\\\ 0 \\end{pmatrix}$"
     ]
    },
    {
     "cell_type": "markdown",
     "metadata": {},
     "source": [
      "*Teorema:* O par $(A,B)$ \u00e9 control\u00e1vel se, e somente se, o gramiano $Q_T$ \u00e9 invers\u00edvel."
     ]
    },
    {
     "cell_type": "markdown",
     "metadata": {},
     "source": [
      "Primeiro suponha que $Q_T$ \u00e9 invers\u00edvel e seja $x_1$ um ponto qualquer do espa\u00e7o de estado $\\mathbb{R}^n$. Definimos o controle admiss\u00edvel:\n",
      "$$ u(s) = B^\\prime\\text{e}^{(T-s)A^\\prime}Q_T^{-1}x_1 $$\n",
      "e verificamos que  $\\mathcal{L}(u(\\cdot)) = x_1$.\n",
      "\n",
      "**Observa\u00e7\u00e3o** $\\mathcal{L}(u(\\cdot)) = \\int_0^T\\text{e}^{(T-s)A}Bu(s)ds \\in \\mathbb{R}^n$ neste caso."
     ]
    },
    {
     "cell_type": "markdown",
     "metadata": {},
     "source": [
      "Agora suponha que $Q_T$ n\u00e3o seja invers\u00edvel, e que $x_2 \\in \\mathbb{R}^n$ seja um elemento n\u00e3o nulo do n\u00facleo $\\text{Ker}Q_T$. Em particular vale:\n",
      "$$ \\begin{gather}\\langle Q_Tx_2, x_2 \\rangle = \\int_0^T \\langle \\text{e}^{sA}BB^\\prime\\text{e}^{sA^\\prime}x_2,x_2\\rangle ds =0 \\\\\n",
      "\\int_0^T \\| B^\\prime\\text{e}^{sA^\\prime}x_2\\|^2 ds=0 \\implies B^\\prime\\text{e}^{sA^\\prime}x_2 =0 \\forall s \\in [0,T]\\end{gather}$$"
     ]
    },
    {
     "cell_type": "markdown",
     "metadata": {},
     "source": [
      "Por outro lado, para todo $u(\\cdot) \\in \\mathcal{U}$, tem-se que $\\langle \\mathcal{L}(u(\\cdot)), x_2 \\rangle $ pode ser\n",
      "calculado:\n",
      "$$ \\begin{gather} \n",
      "\\langle \\mathcal{L}(u(\\cdot)), x_2 \\rangle = \\int_0^T\\langle \\text{e}^{(T-s)A}Bu(s),x_2\\rangle ds = \\int_0^T\\langle u(s), B^\\prime \\text{e}^{(T-s)A^\\prime}x_2\\rangle ds =0\n",
      "\\end{gather}$$\n",
      "O que significa que $x_2$ \u00e9 ortogonal a $\\text{Im}\\mathcal{L}$ e o par $(A,B)$ n\u00e3o \u00e9 control\u00e1vel."
     ]
    },
    {
     "cell_type": "markdown",
     "metadata": {},
     "source": []
    }
   ],
   "metadata": {}
  }
 ]
}