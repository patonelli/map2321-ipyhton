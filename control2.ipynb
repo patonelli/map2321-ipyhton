{
 "metadata": {
  "kernelspec": {
   "codemirror_mode": {
    "name": "python",
    "version": 3
   },
   "display_name": "Python 3",
   "language": "python",
   "name": "python3"
  },
  "name": "",
  "signature": "sha256:4bff1d166f7d8305e52539658106045c4ea39cc1a0e75b486ce67543f00ed62e"
 },
 "nbformat": 3,
 "nbformat_minor": 0,
 "worksheets": [
  {
   "cells": [
    {
     "cell_type": "markdown",
     "metadata": {},
     "source": [
      "# A Matriz de Controlabilidade\n",
      "Antes de mais nada vamos tratar de uma propriedade importante de nossos sistemas lineares: a invari\u00e2ncia no tempo. Isto se reflete na seguinte propriedade da fun\u00e7\u00e3o de transi\u00e7\u00e3o de estados:\n",
      "\n",
      "$$ \\varphi(t,t_0,x_0,u(\\cdot)) = \\varphi(t-t_0,0,x_0, v(\\cdot))$$\n",
      "onde $v(t) = u(t+t_0)$.\n",
      "Para ver isto basta analisar a parte controlada do sistema. A parte controlada de $\\varphi(t,t_0,x_0,u(\\cdot))$ \u00e9\n",
      "$$ \\begin{gather} \\int_{t_0}^t \\text{e}^{(t-s)A}Bu(s)ds = \\int_{0}^{t-t_0}\\text{e}^{(t-t_0 -r)A}Bu(r+t_0)dr\n",
      "\\end{gather}$$\n",
      "Desta forma para estudarmos a controlabilidade de nosso caso linear basta estudar o conjunto:\n",
      "$$ \\mathcal{A}(T) = \\left\\{ \\int_0^T \\text{e}^{(T-s)A}Bu(s)ds: u(\\cdot) \\in \\mathcal{U}\\right\\} =\\left\\{ \\int_0^T \\text{e}^{sA}Bu(T-s)ds: u(\\cdot) \\in \\mathcal{U}\\right\\}$$"
     ]
    },
    {
     "cell_type": "markdown",
     "metadata": {},
     "source": [
      "## Gramiano de controlabilidade\n",
      "\n",
      "Para um $T>0$, definimos o *Gramiano de controlabilidade* como a matriz sim\u00e9trica:\n",
      "$$Q_T = \\int_0^T \\text{e}^{sA}BB^\\prime\\text{e}^{sA^\\prime}ds $$\n",
      "Nesta f\u00f3rmula $A^\\prime$ \u00e9 a transposta da matriz $A$.\n"
     ]
    },
    {
     "cell_type": "markdown",
     "metadata": {},
     "source": [
      "## exerc\u00edcios:\n",
      "Calcular os gramianos de controlabilidade nos casos\n",
      "\n",
      "* $A=\\begin{pmatrix}0&1 \\\\ 0 & 0\\end{pmatrix}$ e $ B=\\begin{pmatrix} 0 \\\\ 1 \\end{pmatrix}$\n",
      "\n",
      "* $A=\\begin{pmatrix}1&1 \\\\ 0 & 1\\end{pmatrix}$ e $ B=\\begin{pmatrix} 1\\\\ 0 \\end{pmatrix}$"
     ]
    },
    {
     "cell_type": "markdown",
     "metadata": {},
     "source": [
      "*Teorema:* O par $(A,B)$ \u00e9 control\u00e1vel se, e somente se, o gramiano $Q_T$ \u00e9 invers\u00edvel."
     ]
    },
    {
     "cell_type": "markdown",
     "metadata": {},
     "source": []
    }
   ],
   "metadata": {}
  }
 ]
}