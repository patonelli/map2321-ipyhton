{
 "cells": [
  {
   "cell_type": "markdown",
   "metadata": {},
   "source": [
    "# Controle \u00d3timo\n",
    "Vamos come\u00e7ar a teoria de controle \u00f3timo com a seguinte classe de problemas\n",
    "Temos as equa\u00e7\u00f5es din\u00e3micas do sistema:\n",
    "$$ \\begin{gather} \\dot{x} = f(x,u) \\\\ x(0) = x_0 \\\\\n",
    "J_T(x_0,u(\\cdot)) = \\int_0^T L(x(t),u(t))dt + G(y(T))\n",
    "\\end{gather} $$\n",
    "O problema \u00e9 encontrar o controle $\\hat{u}(t)$ tal que $J_T(x_0,\\hat{u}(\\cdot))\\leq J(x_0,u(\\cdot))$ para todo controle admiss\u00edvel $u(t)$."
   ]
  },
  {
   "cell_type": "markdown",
   "metadata": {
    "collapsed": true
   },
   "source": [
    "## Programa\u00e7\u00e3o din\u00e2mica( Teoria de Bellman)\n",
    "Vamos, em primeiro lugar, demonstrar um teorema b\u00e1sico da teoria de Bellman. Suponha que $W(t,x) \\in \\mathbb{R}$ seja uma fun\u00e7\u00e3o de classe $\\mathcal{C}^1$ que satisfaz a equa\u00e7\u00e3o de Belmann:\n",
    "$$ \\frac{\\partial W(t,x)}{\\partial t} = \\inf_{u\\in U}\\left(L(x,u)+\\langle W_x(t,x), f(x,u)\\rangle\\right)$$\n",
    "com a condi\u00e7\u00e3o de fronteira\n",
    "$$ W(0,x) = G(x) $$\n",
    "Ent\u00e3o\n",
    "\n",
    "- Se $u(t)$ \u00e9 um controle admiss\u00edvel qualquer ent\u00e3o $J_T(x_0,u(\\cdot)) \\geq W(T,x_0)$.\n",
    "\n",
    "- suponha que existe uma fun\u00e7\u00e3o $\\hat{v} [0,T]\\times \\mathbb{R}^n \\to U$ que satisfaz\n",
    "$$ L(x,\\hat{v}(t,x))+\\langle W_x(t,x), f(x,\\hat{v}(t,x)\\rangle \\leq L(x,u) +\\langle W_x(t,x), f(x,u)\\rangle$$ e seja $\\hat{x}(t)$ a solu\u00e7\u00e3o de \n",
    "$$ \\frac{d}{dt} \\hat{x}(t) = f(\\hat{x}(t),\\hat{v}(T-t,\\hat{x}(t)))$$ \n",
    "ent\u00e3o definindo o controle $\\hat{u}(t) = \\hat{v}(t,\\hat{x}(t))$ temos que:\n",
    "$$ J_T (x_0, \\hat{u}(\\cdot)) = W(T,x_0) $$"
   ]
  },
  {
   "cell_type": "markdown",
   "metadata": {
    "collapsed": true
   },
   "source": [
    "### Prova:\n",
    "Seja $(x(t),u(t))$ uma trajet\u00f3ria de controle com $x(0)=x_0$. Define-se $w(t) = W(T-t,x(t))$. Usando a equa\u00e7\u00e3o de Bellman obtemos:\n",
    "$$ \\frac{d}{dt}w(t) = -W_t(T-t,x(t)) + \\langle W_x(T-t,x(t), f(x(t),u(t))\\rangle \\geq -L(x(t),u(t)) $$\n",
    "da\u00ed\n",
    "$$ w(T) - w(0) \\geq -\\int_0^T L(x(t),u(t))dt \\implies w(0) \\leq \\int_0^T L(x(t),u(t))dt + w(T)$$\n",
    "e pela defini\u00e7\u00e3o de $w(t)$ vem a desigualdade. \n"
   ]
  },
  {
   "cell_type": "code",
   "execution_count": null,
   "metadata": {
    "collapsed": true
   },
   "outputs": [],
   "source": []
  }
 ],
 "metadata": {
  "kernelspec": {
   "display_name": "IPython (Python 3)",
   "name": "python3"
  },
  "language_info": {
   "codemirror_mode": {
    "name": "ipython",
    "version": 3
   },
   "file_extension": ".py",
   "mimetype": "text/x-python",
   "name": "python",
   "nbconvert_exporter": "python",
   "pygments_lexer": "ipython3"
  },
  "signature": "sha256:ecabcbe3be4ec4ce85907488f100f09f606764f135f4f3c51c97fdcb80d77edb"
 },
 "nbformat": 4,
 "nbformat_minor": 0
}