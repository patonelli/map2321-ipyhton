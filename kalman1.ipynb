{
 "metadata": {
  "kernelspec": {
   "codemirror_mode": {
    "name": "ipython",
    "version": 3
   },
   "display_name": "IPython (Python 3)",
   "language": "python",
   "name": "python3"
  },
  "name": "",
  "signature": "sha256:98fe77bfaea4ae8fed009fada59104406b0c5d9ad6667b2720e10ad93bdc58d3"
 },
 "nbformat": 3,
 "nbformat_minor": 0,
 "worksheets": [
  {
   "cells": [
    {
     "cell_type": "markdown",
     "metadata": {},
     "source": [
      "# Teoria de Kalman\n",
      "Sejam $(A,B)$ matrizes e $T>0$. $A \\in \\mathbb{M}_{n\\times n}$ e $B \\in \\mathbb{M}_{n\\times m}$.\n",
      "\n",
      "* $\\mathcal{L}(u(\\cdot))=\\int_0^T \\text{e}^{(T-s)A}Bu(s)ds$\n",
      "\n",
      "* $Q_{T}=\\int_{0}^T \\text{e}^{sA}BB^\\prime\\text{e}^{sA^\\prime}ds$\n",
      "\n",
      "* $\\mathbf{L}(u_0, \\cdots , u_{n-1})= Bu_0 + \\cdots + A^{n-1}Bu_{n-1} = \\sum_{k=0}^{n-1} A^kBu_{k}$"
     ]
    },
    {
     "cell_type": "markdown",
     "metadata": {},
     "source": [
      "### resumos dos resultados:\n",
      "1. $(A,B)$ \u00e9 control\u00e1vel se, e somente se, $\\text{Im}(\\mathcal{L})=\\mathbb{R}^n$.\n",
      "\n",
      "2. $(A,B)$ \u00e9 control\u00e1vel se, e somente se, $ \\text{ker}Q_T = \\{ 0 \\}$\n",
      "\n",
      "3. $\\text{ker}Q_T = \\text{Im}(\\mathcal{L})^\\perp$"
     ]
    },
    {
     "cell_type": "markdown",
     "metadata": {},
     "source": [
      "### Resultado principal desta aula\n",
      "**Teorema** $\\text{ker}Q_T = \\text{Im}(\\mathbf{L})^\\perp$"
     ]
    },
    {
     "cell_type": "markdown",
     "metadata": {},
     "source": [
      "1. Se $x \\in \\text{ker}Q_T$ ent\u00e3o j\u00e1 vimos que $B^\\prime\\text{e}^{sA^\\prime}x = 0 \\, \\, \\, \\, \\forall s \\in [0,T]$. Em particular, para $s=0$ temos $B^\\prime x =0$. Calculando as derivadas desta rela\u00e7\u00e3o, e computando em $s=0$ teremos tamb\u00e9m que $B^\\prime {A^\\prime}^kx = 0$ para todo $k \\in \\mathbb{N}$. Dessa forma, para todo $u\\in \\mathbb{R}^m$ temos que \n",
      "$$ \\langle A^kBu, x \\rangle = \\langle u, B^\\prime {A^\\prime}^kx \\rangle = 0 \\implies \\langle \\mathbf{L}(u_0,\\cdots,u_{n-1}),x\\rangle =0 \\implies x\\in \\text{Im}(\\mathbf{L})^\\perp$$\n",
      "\n",
      "2. Se $ x\\in \\text{Im}(\\mathbf{L})^\\perp$. Ent\u00e3o teremos que $$\\sum_{k=0}^{n-1} \\langle A^kBu_k, x \\rangle =0 \\,\\,\\, \\forall u_k.$$ Em particular temos que $$\\langle A^kBu,x \\rangle =0\\,\\, \\forall u \\in \\mathbb{R}^m \\implies \\langle u, B^\\prime {A^\\prime}^kx \\rangle =0 \\implies B^\\prime{A^\\prime}^kx =0$$ o que acarreta que $B^\\prime\\text{e}^{sA^\\prime}x = 0 \\, \\, \\, \\, \\forall s \\in [0,T]$ e portanto $x\\in \\text{ker}Q_T$"
     ]
    },
    {
     "cell_type": "markdown",
     "metadata": {},
     "source": [
      "### Corol\u00e1rios\n",
      "\n",
      "* $\\text{Im}\\mathcal{L} =\\text{Im}\\mathbf{L}$\n",
      "\n",
      "* A matriz de representa\u00e7\u00e3o de $\\mathbf{L}$ \u00e9 a matriz de dimens\u00e3o $n\\times nm$ $$ K = \\left[ B|AB| \\cdots |A^{n-1}B\\right]$$ e o par $(A,B)$ \u00e9 control\u00e1vel se, e somente se, o posto de $K$ \u00e9 m\u00e1ximo ($=n$)."
     ]
    },
    {
     "cell_type": "code",
     "collapsed": false,
     "input": [],
     "language": "python",
     "metadata": {},
     "outputs": []
    }
   ],
   "metadata": {}
  }
 ]
}