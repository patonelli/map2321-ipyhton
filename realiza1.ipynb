{
 "metadata": {
  "name": "",
  "signature": "sha256:5906d5bc7ad179b9fc854b16765f79652371c498435c82b0b543399b7756afac"
 },
 "nbformat": 3,
 "nbformat_minor": 0,
 "worksheets": [
  {
   "cells": [
    {
     "cell_type": "markdown",
     "metadata": {},
     "source": [
      "# Realiza\u00e7\u00e3o de sistemas lineares\n",
      "\n",
      "## operador I/O\n",
      "Num sistema linear, onde se sabe quais s\u00e3o os par\u00e2metros de sua din\u00e2nica:\n",
      "$$ \\begin{gather}  \n",
      "\\dot{x} = Ax + Bu \\\\ y= Cx\\end{gather}$$\n",
      "temos que para uma fun\u00e7\u00e3o de entrada $u(t)$ corresponde a sa\u00edda:\n",
      "$$ y(t) = C\\text{e}^{tA}x_0 + \\int_0^t C\\text{e}^{(t-s)A}Bu(s)ds$$\n",
      "Neste caso\n",
      "$$ \\begin{gather}  \\Psi(t) = C\\text{e}^{tA}B \\\\\n",
      "\\mathcal{L}(u(\\cdot))= \\int_0^t\\Psi(t-s)u(s)ds \\end{gather}$$\n",
      "s\u00e3o chamados de **fun\u00e7\u00e3o resposta ao impulso** e **operador de entrada-sa\u00edda**, respectivamente.\n",
      "O problema da teoria de realiza\u00e7\u00e3o para a fun\u00e7\u00e3o $\\Psi$ \u00e9 encontrar matrizes $(A,B,C)$ tais que\n",
      "$$ \\Psi(t) =C\\text{e}^{tA}B$$"
     ]
    },
    {
     "cell_type": "code",
     "collapsed": true,
     "input": [],
     "language": "python",
     "metadata": {},
     "outputs": []
    }
   ],
   "metadata": {}
  }
 ]
}